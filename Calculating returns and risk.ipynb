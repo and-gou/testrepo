{
 "cells": [
  {
   "cell_type": "code",
   "execution_count": 1,
   "id": "a1f78d69",
   "metadata": {},
   "outputs": [],
   "source": [
    "import pandas as pd\n",
    "import numpy as np\n",
    "import datetime\n",
    "import matplotlib.pyplot as plt"
   ]
  },
  {
   "cell_type": "code",
   "execution_count": 2,
   "id": "26e6f020",
   "metadata": {},
   "outputs": [],
   "source": [
    "gold = pd.read_excel (\"C:/Users/agpg/Documents/Udemy Practice/Gold bullion.xlsx\", index_col = 'Date')\n",
    "\n",
    "#index_col muda o índice, set_index só mosta o índice sem alterar. Mas podemos definir uma nova variável igual ao set_index"
   ]
  },
  {
   "cell_type": "code",
   "execution_count": 3,
   "id": "6ab52a84",
   "metadata": {},
   "outputs": [
    {
     "data": {
      "text/html": [
       "<div>\n",
       "<style scoped>\n",
       "    .dataframe tbody tr th:only-of-type {\n",
       "        vertical-align: middle;\n",
       "    }\n",
       "\n",
       "    .dataframe tbody tr th {\n",
       "        vertical-align: top;\n",
       "    }\n",
       "\n",
       "    .dataframe thead th {\n",
       "        text-align: right;\n",
       "    }\n",
       "</style>\n",
       "<table border=\"1\" class=\"dataframe\">\n",
       "  <thead>\n",
       "    <tr style=\"text-align: right;\">\n",
       "      <th></th>\n",
       "      <th>Price</th>\n",
       "    </tr>\n",
       "    <tr>\n",
       "      <th>Date</th>\n",
       "      <th></th>\n",
       "    </tr>\n",
       "  </thead>\n",
       "  <tbody>\n",
       "    <tr>\n",
       "      <th>2022-07-22</th>\n",
       "      <td>1730.95</td>\n",
       "    </tr>\n",
       "    <tr>\n",
       "      <th>2022-07-21</th>\n",
       "      <td>1713.90</td>\n",
       "    </tr>\n",
       "    <tr>\n",
       "      <th>2022-07-20</th>\n",
       "      <td>1708.51</td>\n",
       "    </tr>\n",
       "    <tr>\n",
       "      <th>2022-07-19</th>\n",
       "      <td>1713.92</td>\n",
       "    </tr>\n",
       "    <tr>\n",
       "      <th>2022-07-18</th>\n",
       "      <td>1711.22</td>\n",
       "    </tr>\n",
       "  </tbody>\n",
       "</table>\n",
       "</div>"
      ],
      "text/plain": [
       "              Price\n",
       "Date               \n",
       "2022-07-22  1730.95\n",
       "2022-07-21  1713.90\n",
       "2022-07-20  1708.51\n",
       "2022-07-19  1713.92\n",
       "2022-07-18  1711.22"
      ]
     },
     "execution_count": 3,
     "metadata": {},
     "output_type": "execute_result"
    }
   ],
   "source": [
    "gold.head()"
   ]
  },
  {
   "cell_type": "code",
   "execution_count": 4,
   "id": "ca027ff1",
   "metadata": {},
   "outputs": [
    {
     "name": "stdout",
     "output_type": "stream",
     "text": [
      "Date\n",
      "2022-07-22         NaN\n",
      "2022-07-21   -0.009850\n",
      "2022-07-20   -0.003145\n",
      "2022-07-19    0.003167\n",
      "2022-07-18   -0.001575\n",
      "                ...   \n",
      "1998-07-28    0.003105\n",
      "1998-07-27   -0.001032\n",
      "1998-07-24    0.006886\n",
      "1998-07-23    0.002394\n",
      "1998-07-22    0.005117\n",
      "Name: simple return, Length: 6263, dtype: float64\n"
     ]
    }
   ],
   "source": [
    "gold['simple return'] = (gold['Price']/ gold['Price'].shift (1))-1\n",
    "\n",
    "print (gold['simple return'])"
   ]
  },
  {
   "cell_type": "code",
   "execution_count": 5,
   "id": "d0b9a6ae",
   "metadata": {},
   "outputs": [
    {
     "data": {
      "image/png": "[encoded data removed]",
      "text/plain": [
       "<Figure size 720x360 with 1 Axes>"
      ]
     },
     "metadata": {
      "needs_background": "light"
     },
     "output_type": "display_data"
    }
   ],
   "source": [
    "gold['simple return'].plot (figsize= (10,5))\n",
    "plt.show()"
   ]
  },
  {
   "cell_type": "code",
   "execution_count": 6,
   "id": "e637e766",
   "metadata": {},
   "outputs": [
    {
     "data": {
      "text/plain": [
       "-0.0002275148336542231"
      ]
     },
     "execution_count": 6,
     "metadata": {},
     "output_type": "execute_result"
    }
   ],
   "source": [
    "#pandas.DataFrame.mean() calculates the average daily rate of return\n",
    "\n",
    "avg_returns_d = gold['simple return'].mean()\n",
    "avg_returns_d"
   ]
  },
  {
   "cell_type": "code",
   "execution_count": 7,
   "id": "b9a20864",
   "metadata": {},
   "outputs": [
    {
     "data": {
      "text/plain": [
       "-0.05687870841355577"
      ]
     },
     "execution_count": 7,
     "metadata": {},
     "output_type": "execute_result"
    }
   ],
   "source": [
    "# anualizar o retorno\n",
    "\n",
    "avg_returns_a = gold['simple return'].mean()*250\n",
    "avg_returns_a"
   ]
  },
  {
   "cell_type": "code",
   "execution_count": 8,
   "id": "2b398cd1",
   "metadata": {},
   "outputs": [
    {
     "name": "stdout",
     "output_type": "stream",
     "text": [
      "-5.69%\n"
     ]
    }
   ],
   "source": [
    "print (str(round(avg_returns_a*100, 2)) + '%')"
   ]
  },
  {
   "cell_type": "code",
   "execution_count": 9,
   "id": "f9112642",
   "metadata": {},
   "outputs": [
    {
     "data": {
      "text/plain": [
       "Date\n",
       "2022-07-22         NaN\n",
       "2022-07-21   -0.009899\n",
       "2022-07-20   -0.003150\n",
       "2022-07-19    0.003161\n",
       "2022-07-18   -0.001577\n",
       "                ...   \n",
       "1998-07-28    0.003100\n",
       "1998-07-27   -0.001032\n",
       "1998-07-24    0.006862\n",
       "1998-07-23    0.002391\n",
       "1998-07-22    0.005104\n",
       "Name: log_return, Length: 6263, dtype: float64"
      ]
     },
     "execution_count": 9,
     "metadata": {},
     "output_type": "execute_result"
    }
   ],
   "source": [
    "#LOGARITHMIC RATES OF RETURN\n",
    "\n",
    "gold['log_return'] = np.log (gold['Price']/gold['Price'].shift(1))\n",
    "\n",
    "gold['log_return']"
   ]
  },
  {
   "cell_type": "code",
   "execution_count": 10,
   "id": "50d97277",
   "metadata": {},
   "outputs": [
    {
     "name": "stdout",
     "output_type": "stream",
     "text": [
      "-7.07%\n"
     ]
    }
   ],
   "source": [
    "log_returns_a = gold['log_return'].mean()*250\n",
    "\n",
    "print (str(round(log_returns_a*100, 2)) + '%')\n",
    "\n"
   ]
  },
  {
   "cell_type": "code",
   "execution_count": 12,
   "id": "cc6f33cc",
   "metadata": {},
   "outputs": [
    {
     "data": {
      "text/plain": [
       "0.010503686604759949"
      ]
     },
     "execution_count": 12,
     "metadata": {},
     "output_type": "execute_result"
    }
   ],
   "source": [
    "# CALCULATING STANDARD DEVIATION\n",
    "\n",
    "gold['log_return'].std()"
   ]
  },
  {
   "cell_type": "code",
   "execution_count": 15,
   "id": "f26efe30",
   "metadata": {},
   "outputs": [
    {
     "data": {
      "text/plain": [
       "0.16607786749821118"
      ]
     },
     "execution_count": 15,
     "metadata": {},
     "output_type": "execute_result"
    }
   ],
   "source": [
    "vol_gold_a = gold['log_return'].std()* 250 ** 0.5\n",
    "\n",
    "vol_gold_a"
   ]
  },
  {
   "cell_type": "code",
   "execution_count": null,
   "id": "8a5adcb0",
   "metadata": {},
   "outputs": [],
   "source": []
  }
 ],
 "metadata": {
  "kernelspec": {
   "display_name": "Python 3 (ipykernel)",
   "language": "python",
   "name": "python3"
  },
  "language_info": {
   "codemirror_mode": {
    "name": "ipython",
    "version": 3
   },
   "file_extension": ".py",
   "mimetype": "text/x-python",
   "name": "python",
   "nbconvert_exporter": "python",
   "pygments_lexer": "ipython3",
   "version": "3.9.12"
  }
 },
 "nbformat": 4,
 "nbformat_minor": 5
}
